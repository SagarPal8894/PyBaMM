{
 "cells": [
  {
   "cell_type": "markdown",
   "metadata": {},
   "source": [
    "# 3. Wrapping a model into a class - the Single Particle Model\n",
    "\n",
    "In the previous notebooks we learnt how to build models using PyBaMM. We implemented them directly in a notebook, which is very useful when building the model for the first time, but not so much if we want to use the model often or share it with other people. In these cases, it is better to wrap the model into a class. \n",
    "\n",
    "A [Python class](https://www.w3schools.com/python/python_classes.asp) is a \"blueprint\" to create an object. A Python object is a special variable that contain data (variables) and methods (functions) that can manipulate this data. In our case, the object will be a model, which we can then solve.\n",
    "\n",
    "Building on our previous models, we will now implement the Single Particle Model for a full cell.\n",
    "\n",
    "> WRITE SPM equations"
   ]
  },
  {
   "cell_type": "markdown",
   "metadata": {},
   "source": [
    "## Setting up the model\n",
    "\n",
    "- Explain the init and where the model is defined\n",
    "- Explain additional attributes"
   ]
  },
  {
   "cell_type": "markdown",
   "metadata": {},
   "source": []
  }
 ],
 "metadata": {
  "language_info": {
   "name": "python"
  }
 },
 "nbformat": 4,
 "nbformat_minor": 2
}
